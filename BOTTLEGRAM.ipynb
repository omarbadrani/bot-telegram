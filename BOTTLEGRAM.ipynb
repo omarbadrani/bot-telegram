{
 "cells": [
  {
   "cell_type": "code",
   "execution_count": 1,
   "id": "b3da6deb",
   "metadata": {},
   "outputs": [
    {
     "name": "stdout",
     "output_type": "stream",
     "text": [
      "Requirement already satisfied: python-telegram-bot in c:\\users\\hp\\anaconda31\\lib\\site-packages (20.7)\n",
      "Requirement already satisfied: httpx~=0.25.2 in c:\\users\\hp\\anaconda31\\lib\\site-packages (from python-telegram-bot) (0.25.2)\n",
      "Requirement already satisfied: anyio in c:\\users\\hp\\anaconda31\\lib\\site-packages (from httpx~=0.25.2->python-telegram-bot) (3.5.0)\n",
      "Requirement already satisfied: certifi in c:\\users\\hp\\anaconda31\\lib\\site-packages (from httpx~=0.25.2->python-telegram-bot) (2023.7.22)\n",
      "Requirement already satisfied: httpcore==1.* in c:\\users\\hp\\anaconda31\\lib\\site-packages (from httpx~=0.25.2->python-telegram-bot) (1.0.2)\n",
      "Requirement already satisfied: idna in c:\\users\\hp\\anaconda31\\lib\\site-packages (from httpx~=0.25.2->python-telegram-bot) (2.10)\n",
      "Requirement already satisfied: sniffio in c:\\users\\hp\\anaconda31\\lib\\site-packages (from httpx~=0.25.2->python-telegram-bot) (1.2.0)\n",
      "Requirement already satisfied: h11<0.15,>=0.13 in c:\\users\\hp\\anaconda31\\lib\\site-packages (from httpcore==1.*->httpx~=0.25.2->python-telegram-bot) (0.14.0)\n",
      "Note: you may need to restart the kernel to use updated packages.\n"
     ]
    }
   ],
   "source": [
    "pip install python-telegram-bot"
   ]
  },
  {
   "cell_type": "code",
   "execution_count": 2,
   "id": "1fc4728e",
   "metadata": {},
   "outputs": [
    {
     "name": "stdout",
     "output_type": "stream",
     "text": [
      "Requirement already satisfied: python-telegram-bot in c:\\users\\hp\\anaconda31\\lib\\site-packages (20.7)Note: you may need to restart the kernel to use updated packages.\n",
      "\n",
      "Requirement already satisfied: httpx~=0.25.2 in c:\\users\\hp\\anaconda31\\lib\\site-packages (from python-telegram-bot) (0.25.2)\n",
      "Requirement already satisfied: anyio in c:\\users\\hp\\anaconda31\\lib\\site-packages (from httpx~=0.25.2->python-telegram-bot) (3.5.0)\n",
      "Requirement already satisfied: certifi in c:\\users\\hp\\anaconda31\\lib\\site-packages (from httpx~=0.25.2->python-telegram-bot) (2023.7.22)\n",
      "Requirement already satisfied: httpcore==1.* in c:\\users\\hp\\anaconda31\\lib\\site-packages (from httpx~=0.25.2->python-telegram-bot) (1.0.2)\n",
      "Requirement already satisfied: idna in c:\\users\\hp\\anaconda31\\lib\\site-packages (from httpx~=0.25.2->python-telegram-bot) (2.10)\n",
      "Requirement already satisfied: sniffio in c:\\users\\hp\\anaconda31\\lib\\site-packages (from httpx~=0.25.2->python-telegram-bot) (1.2.0)\n",
      "Requirement already satisfied: h11<0.15,>=0.13 in c:\\users\\hp\\anaconda31\\lib\\site-packages (from httpcore==1.*->httpx~=0.25.2->python-telegram-bot) (0.14.0)\n"
     ]
    }
   ],
   "source": [
    "pip install --upgrade python-telegram-bot"
   ]
  },
  {
   "cell_type": "code",
   "execution_count": 3,
   "id": "530cc4e9",
   "metadata": {},
   "outputs": [
    {
     "name": "stdout",
     "output_type": "stream",
     "text": [
      "Requirement already satisfied: python-telegram-bot in c:\\users\\hp\\anaconda31\\lib\\site-packages (20.7)Note: you may need to restart the kernel to use updated packages.\n",
      "\n",
      "Requirement already satisfied: httpx~=0.25.2 in c:\\users\\hp\\anaconda31\\lib\\site-packages (from python-telegram-bot) (0.25.2)\n",
      "Requirement already satisfied: anyio in c:\\users\\hp\\anaconda31\\lib\\site-packages (from httpx~=0.25.2->python-telegram-bot) (3.5.0)\n",
      "Requirement already satisfied: certifi in c:\\users\\hp\\anaconda31\\lib\\site-packages (from httpx~=0.25.2->python-telegram-bot) (2023.7.22)\n",
      "Requirement already satisfied: httpcore==1.* in c:\\users\\hp\\anaconda31\\lib\\site-packages (from httpx~=0.25.2->python-telegram-bot) (1.0.2)\n",
      "Requirement already satisfied: idna in c:\\users\\hp\\anaconda31\\lib\\site-packages (from httpx~=0.25.2->python-telegram-bot) (2.10)\n",
      "Requirement already satisfied: sniffio in c:\\users\\hp\\anaconda31\\lib\\site-packages (from httpx~=0.25.2->python-telegram-bot) (1.2.0)\n",
      "Requirement already satisfied: h11<0.15,>=0.13 in c:\\users\\hp\\anaconda31\\lib\\site-packages (from httpcore==1.*->httpx~=0.25.2->python-telegram-bot) (0.14.0)\n"
     ]
    }
   ],
   "source": [
    "pip install python-telegram-bot"
   ]
  },
  {
   "cell_type": "code",
   "execution_count": 4,
   "id": "aebb1485",
   "metadata": {},
   "outputs": [
    {
     "name": "stdout",
     "output_type": "stream",
     "text": [
      "Requirement already satisfied: pyTelegramBotAPI in c:\\users\\hp\\anaconda31\\lib\\site-packages (4.14.1)\n",
      "Requirement already satisfied: requests in c:\\users\\hp\\anaconda31\\lib\\site-packages (from pyTelegramBotAPI) (2.31.0)\n",
      "Requirement already satisfied: charset-normalizer<4,>=2 in c:\\users\\hp\\anaconda31\\lib\\site-packages (from requests->pyTelegramBotAPI) (2.0.4)\n",
      "Requirement already satisfied: idna<4,>=2.5 in c:\\users\\hp\\anaconda31\\lib\\site-packages (from requests->pyTelegramBotAPI) (2.10)\n",
      "Requirement already satisfied: urllib3<3,>=1.21.1 in c:\\users\\hp\\anaconda31\\lib\\site-packages (from requests->pyTelegramBotAPI) (1.26.16)\n",
      "Requirement already satisfied: certifi>=2017.4.17 in c:\\users\\hp\\anaconda31\\lib\\site-packages (from requests->pyTelegramBotAPI) (2023.7.22)\n"
     ]
    }
   ],
   "source": [
    "!pip install pyTelegramBotAPI"
   ]
  },
  {
   "cell_type": "code",
   "execution_count": null,
   "id": "fc14e4bc",
   "metadata": {},
   "outputs": [],
   "source": [
    "import requests\n",
    "import telebot\n",
    "\n",
    "API_KEY = '************************************'\n",
    "OWM_API_KEY = '************************************'\n",
    "\n",
    "bot = telebot.TeleBot(API_KEY)\n",
    "\n",
    "@bot.message_handler(commands=[\"hi\"])\n",
    "def hi(message):\n",
    "    bot.reply_to(message, \"Hey! How's it going?\")\n",
    "\n",
    "@bot.message_handler(commands=[\"HELLO\"])\n",
    "def hello(message):\n",
    "    bot.reply_to(message, \"Hello there!\")\n",
    "    \n",
    "\n",
    "    \n",
    "@bot.message_handler(commands=[\"HELP\"])\n",
    "def help_message(message):\n",
    "    response = (\n",
    "        \"I am a simple bot that responds to a few commands:\\n\"\n",
    "        \"/hi - Say hello to the bot\\n\"\n",
    "        \"/HELLO - Another way to greet\\n\"\n",
    "        \"/HELP - Display this help message\\n\"\n",
    "        \"/WEATHER - Get today's weather\"\n",
    "    )\n",
    "    bot.reply_to(message, response)\n",
    "\n",
    "@bot.message_handler(commands=[\"WEATHER\"])\n",
    "def get_weather(message):\n",
    "    # Extract the city name from the user's message\n",
    "    try:\n",
    "        _, city = message.text.split(\" \", 1)\n",
    "    except ValueError:\n",
    "        bot.reply_to(message, \"Please provide a city name after /WEATHER. For example: /WEATHER Paris\")\n",
    "        return\n",
    "\n",
    "    # Adjust the city name if needed\n",
    "    weather_api_url = f\"http://api.openweathermap.org/data/2.5/weather?q={city}&units=metric&appid={OWM_API_KEY}\"\n",
    "\n",
    "    try:\n",
    "        response = requests.get(weather_api_url)\n",
    "        \n",
    "        # Check for HTTP errors\n",
    "        response.raise_for_status()\n",
    "        \n",
    "        data = response.json()\n",
    "        print(data)  # Print the API response for debugging\n",
    "\n",
    "        if 'weather' in data:\n",
    "            weather_description = data[\"weather\"][0][\"description\"]\n",
    "            temperature_celsius = data[\"main\"][\"temp\"]\n",
    "            feels_like_temperature = data[\"main\"][\"feels_like\"]\n",
    "            wind_speed = data[\"wind\"][\"speed\"]\n",
    "            pressure = data[\"main\"][\"pressure\"]\n",
    "            humidity = data[\"main\"][\"humidity\"]\n",
    "            dew_point = data[\"main\"][\"temp\"] - ((100 - humidity) / 5)\n",
    "            visibility = data.get(\"visibility\", \"N/A\")\n",
    "            \n",
    "            response_text = (\n",
    "                f\"Today's weather in {city}:\\n\"\n",
    "                f\"Description: {weather_description}\\n\"\n",
    "                f\"Temperature: {temperature_celsius:.2f}°C\\n\"\n",
    "                f\"Feels like: {feels_like_temperature:.2f}°C\\n\"\n",
    "                f\"Wind: {wind_speed:.2f}m/s\\n\"\n",
    "                f\"Pressure: {pressure}hPa\\n\"\n",
    "                f\"Humidity: {humidity}%\\n\"\n",
    "                f\"Dew point: {dew_point:.2f}°C\\n\"\n",
    "                \n",
    "            )\n",
    "            bot.reply_to(message, response_text)\n",
    "        else:\n",
    "            bot.reply_to(message, \"Error: Weather information not available.\")\n",
    "\n",
    "    except requests.exceptions.HTTPError as errh:\n",
    "        bot.reply_to(message, f\"HTTP Error: {errh}\")\n",
    "    except requests.exceptions.ConnectionError as errc:\n",
    "        bot.reply_to(message, f\"Error Connecting: {errc}\")\n",
    "    except requests.exceptions.Timeout as errt:\n",
    "        bot.reply_to(message, f\"Timeout Error: {errt}\")\n",
    "    except requests.exceptions.RequestException as err:\n",
    "        bot.reply_to(message, f\"Error: {err}\")\n",
    "@bot.message_handler(commands=[\"start\"])\n",
    "def start(message):\n",
    "    bot.reply_to(message, \"Welcome! This is your bot. You can use commands like /hi, /HELLO, /HELP, and /WEATHER.\")\n",
    "\n",
    "# Replace 'YOUR_TELEGRAM_BOT_TOKEN' with your Telegram bot token\n",
    "bot.polling()\n"
   ]
  }
 ],
 "metadata": {
  "kernelspec": {
   "display_name": "Python 3 (ipykernel)",
   "language": "python",
   "name": "python3"
  },
  "language_info": {
   "codemirror_mode": {
    "name": "ipython",
    "version": 3
   },
   "file_extension": ".py",
   "mimetype": "text/x-python",
   "name": "python",
   "nbconvert_exporter": "python",
   "pygments_lexer": "ipython3",
   "version": "3.11.5"
  }
 },
 "nbformat": 4,
 "nbformat_minor": 5
}
