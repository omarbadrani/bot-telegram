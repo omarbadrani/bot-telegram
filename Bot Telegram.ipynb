{
 "cells": [
  {
   "cell_type": "code",
   "execution_count": 1,
   "id": "79b29744",
   "metadata": {},
   "outputs": [
    {
     "name": "stdout",
     "output_type": "stream",
     "text": [
      "Requirement already satisfied: python-telegram-bot in c:\\users\\hp\\anaconda31\\lib\\site-packages (20.7)\n",
      "Requirement already satisfied: httpx~=0.25.2 in c:\\users\\hp\\anaconda31\\lib\\site-packages (from python-telegram-bot) (0.25.2)\n",
      "Requirement already satisfied: anyio in c:\\users\\hp\\anaconda31\\lib\\site-packages (from httpx~=0.25.2->python-telegram-bot) (3.5.0)\n",
      "Requirement already satisfied: certifi in c:\\users\\hp\\anaconda31\\lib\\site-packages (from httpx~=0.25.2->python-telegram-bot) (2023.7.22)\n",
      "Requirement already satisfied: httpcore==1.* in c:\\users\\hp\\anaconda31\\lib\\site-packages (from httpx~=0.25.2->python-telegram-bot) (1.0.2)\n",
      "Requirement already satisfied: idna in c:\\users\\hp\\anaconda31\\lib\\site-packages (from httpx~=0.25.2->python-telegram-bot) (2.10)\n",
      "Requirement already satisfied: sniffio in c:\\users\\hp\\anaconda31\\lib\\site-packages (from httpx~=0.25.2->python-telegram-bot) (1.2.0)\n",
      "Requirement already satisfied: h11<0.15,>=0.13 in c:\\users\\hp\\anaconda31\\lib\\site-packages (from httpcore==1.*->httpx~=0.25.2->python-telegram-bot) (0.14.0)\n",
      "Note: you may need to restart the kernel to use updated packages.\n"
     ]
    }
   ],
   "source": [
    "pip install python-telegram-bot"
   ]
  },
  {
   "cell_type": "code",
   "execution_count": 3,
   "id": "f253a9e0",
   "metadata": {},
   "outputs": [
    {
     "name": "stdout",
     "output_type": "stream",
     "text": [
      "Requirement already satisfied: python-telegram-bot in c:\\users\\hp\\anaconda31\\lib\\site-packages (20.7)\n",
      "Requirement already satisfied: httpx~=0.25.2 in c:\\users\\hp\\anaconda31\\lib\\site-packages (from python-telegram-bot) (0.25.2)\n",
      "Requirement already satisfied: anyio in c:\\users\\hp\\anaconda31\\lib\\site-packages (from httpx~=0.25.2->python-telegram-bot) (3.5.0)\n",
      "Requirement already satisfied: certifi in c:\\users\\hp\\anaconda31\\lib\\site-packages (from httpx~=0.25.2->python-telegram-bot) (2023.7.22)\n",
      "Requirement already satisfied: httpcore==1.* in c:\\users\\hp\\anaconda31\\lib\\site-packages (from httpx~=0.25.2->python-telegram-bot) (1.0.2)\n",
      "Requirement already satisfied: idna in c:\\users\\hp\\anaconda31\\lib\\site-packages (from httpx~=0.25.2->python-telegram-bot) (2.10)\n",
      "Requirement already satisfied: sniffio in c:\\users\\hp\\anaconda31\\lib\\site-packages (from httpx~=0.25.2->python-telegram-bot) (1.2.0)\n",
      "Requirement already satisfied: h11<0.15,>=0.13 in c:\\users\\hp\\anaconda31\\lib\\site-packages (from httpcore==1.*->httpx~=0.25.2->python-telegram-bot) (0.14.0)\n",
      "Note: you may need to restart the kernel to use updated packages.\n"
     ]
    }
   ],
   "source": [
    "pip install --upgrade python-telegram-bot"
   ]
  },
  {
   "cell_type": "code",
   "execution_count": 8,
   "id": "7b92ac0e",
   "metadata": {},
   "outputs": [
    {
     "name": "stdout",
     "output_type": "stream",
     "text": [
      "Requirement already satisfied: python-telegram-bot in c:\\users\\hp\\anaconda31\\lib\\site-packages (20.7)Note: you may need to restart the kernel to use updated packages.\n",
      "\n",
      "Requirement already satisfied: httpx~=0.25.2 in c:\\users\\hp\\anaconda31\\lib\\site-packages (from python-telegram-bot) (0.25.2)\n",
      "Requirement already satisfied: anyio in c:\\users\\hp\\anaconda31\\lib\\site-packages (from httpx~=0.25.2->python-telegram-bot) (3.5.0)\n",
      "Requirement already satisfied: certifi in c:\\users\\hp\\anaconda31\\lib\\site-packages (from httpx~=0.25.2->python-telegram-bot) (2023.7.22)\n",
      "Requirement already satisfied: httpcore==1.* in c:\\users\\hp\\anaconda31\\lib\\site-packages (from httpx~=0.25.2->python-telegram-bot) (1.0.2)\n",
      "Requirement already satisfied: idna in c:\\users\\hp\\anaconda31\\lib\\site-packages (from httpx~=0.25.2->python-telegram-bot) (2.10)\n",
      "Requirement already satisfied: sniffio in c:\\users\\hp\\anaconda31\\lib\\site-packages (from httpx~=0.25.2->python-telegram-bot) (1.2.0)\n",
      "Requirement already satisfied: h11<0.15,>=0.13 in c:\\users\\hp\\anaconda31\\lib\\site-packages (from httpcore==1.*->httpx~=0.25.2->python-telegram-bot) (0.14.0)\n"
     ]
    }
   ],
   "source": [
    "pip install python-telegram-bot"
   ]
  },
  {
   "cell_type": "code",
   "execution_count": 15,
   "id": "4aa01a33",
   "metadata": {},
   "outputs": [
    {
     "name": "stdout",
     "output_type": "stream",
     "text": [
      "Collecting pyTelegramBotAPI\n",
      "  Downloading pyTelegramBotAPI-4.14.1.tar.gz (244 kB)\n",
      "     ---------------------------------------- 0.0/244.2 kB ? eta -:--:--\n",
      "     - -------------------------------------- 10.2/244.2 kB ? eta -:--:--\n",
      "     - -------------------------------------- 10.2/244.2 kB ? eta -:--:--\n",
      "     ---- -------------------------------- 30.7/244.2 kB 262.6 kB/s eta 0:00:01\n",
      "     ---- -------------------------------- 30.7/244.2 kB 262.6 kB/s eta 0:00:01\n",
      "     ---------- -------------------------- 71.7/244.2 kB 302.7 kB/s eta 0:00:01\n",
      "     ------------- ----------------------- 92.2/244.2 kB 403.5 kB/s eta 0:00:01\n",
      "     ---------------- ------------------- 112.6/244.2 kB 363.1 kB/s eta 0:00:01\n",
      "     ---------------------------- ------- 194.6/244.2 kB 562.0 kB/s eta 0:00:01\n",
      "     --------------------------------- -- 225.3/244.2 kB 597.3 kB/s eta 0:00:01\n",
      "     ---------------------------------- - 235.5/244.2 kB 600.7 kB/s eta 0:00:01\n",
      "     ------------------------------------ 244.2/244.2 kB 554.5 kB/s eta 0:00:00\n",
      "  Preparing metadata (setup.py): started\n",
      "  Preparing metadata (setup.py): finished with status 'done'\n",
      "Requirement already satisfied: requests in c:\\users\\hp\\anaconda31\\lib\\site-packages (from pyTelegramBotAPI) (2.31.0)\n",
      "Requirement already satisfied: charset-normalizer<4,>=2 in c:\\users\\hp\\anaconda31\\lib\\site-packages (from requests->pyTelegramBotAPI) (2.0.4)\n",
      "Requirement already satisfied: idna<4,>=2.5 in c:\\users\\hp\\anaconda31\\lib\\site-packages (from requests->pyTelegramBotAPI) (2.10)\n",
      "Requirement already satisfied: urllib3<3,>=1.21.1 in c:\\users\\hp\\anaconda31\\lib\\site-packages (from requests->pyTelegramBotAPI) (1.26.16)\n",
      "Requirement already satisfied: certifi>=2017.4.17 in c:\\users\\hp\\anaconda31\\lib\\site-packages (from requests->pyTelegramBotAPI) (2023.7.22)\n",
      "Building wheels for collected packages: pyTelegramBotAPI\n",
      "  Building wheel for pyTelegramBotAPI (setup.py): started\n",
      "  Building wheel for pyTelegramBotAPI (setup.py): finished with status 'done'\n",
      "  Created wheel for pyTelegramBotAPI: filename=pyTelegramBotAPI-4.14.1-py3-none-any.whl size=215762 sha256=c56cb4297a2258506a285971d4f82e0d162b3159625d72b0464cac6f6192fe6c\n",
      "  Stored in directory: c:\\users\\hp\\appdata\\local\\pip\\cache\\wheels\\ff\\27\\06\\1bfd6840471cb1d8cd2007b8ebf8c8d012023b2c792c6e05da\n",
      "Successfully built pyTelegramBotAPI\n",
      "Installing collected packages: pyTelegramBotAPI\n",
      "Successfully installed pyTelegramBotAPI-4.14.1\n"
     ]
    }
   ],
   "source": [
    "!pip install pyTelegramBotAPI"
   ]
  },
  {
   "cell_type": "code",
   "execution_count": null,
   "id": "349d3da0",
   "metadata": {},
   "outputs": [],
   "source": [
    "import os\n",
    "import telebot\n",
    "\n",
    "API_KEY = '6740043056:AAF8qhT4Efd2nF50Xz81RpsLlV9vQ-V_QSI'\n",
    "bot = telebot.TeleBot(API_KEY)\n",
    "\n",
    "@bot.message_handler(commands=[\"GREET\"])\n",
    "def greet(message):\n",
    "    bot.reply_to(message, \"Hey! How's it going?\")\n",
    "\n",
    "bot.polling()\n"
   ]
  },
  {
   "cell_type": "markdown",
   "id": "8b947d45",
   "metadata": {},
   "source": [
    "# ------------------------------------------------------------------------------"
   ]
  },
  {
   "cell_type": "code",
   "execution_count": null,
   "id": "82608e38",
   "metadata": {},
   "outputs": [
    {
     "name": "stdout",
     "output_type": "stream",
     "text": [
      "{'coord': {'lon': 10.7603, 'lat': 34.7406}, 'weather': [{'id': 800, 'main': 'Clear', 'description': 'clear sky', 'icon': '01n'}], 'base': 'stations', 'main': {'temp': 17.08, 'feels_like': 16.49, 'temp_min': 17.08, 'temp_max': 17.08, 'pressure': 1023, 'humidity': 63}, 'visibility': 10000, 'wind': {'speed': 2.06, 'deg': 180}, 'clouds': {'all': 0}, 'dt': 1703437034, 'sys': {'type': 1, 'id': 1204, 'country': 'TN', 'sunrise': 1703398895, 'sunset': 1703434255}, 'timezone': 3600, 'id': 2467454, 'name': 'Sfax', 'cod': 200}\n",
      "{'coord': {'lon': 2.3488, 'lat': 48.8534}, 'weather': [{'id': 800, 'main': 'Clear', 'description': 'clear sky', 'icon': '01n'}], 'base': 'stations', 'main': {'temp': 11.9, 'feels_like': 11.13, 'temp_min': 11.04, 'temp_max': 12.43, 'pressure': 1015, 'humidity': 76}, 'visibility': 10000, 'wind': {'speed': 6.69, 'deg': 210}, 'clouds': {'all': 0}, 'dt': 1703437071, 'sys': {'type': 2, 'id': 2041230, 'country': 'FR', 'sunrise': 1703403751, 'sunset': 1703433438}, 'timezone': 3600, 'id': 2988507, 'name': 'Paris', 'cod': 200}\n"
     ]
    }
   ],
   "source": [
    "import requests\n",
    "import telebot\n",
    "\n",
    "API_KEY = '6740043056:AAF8qhT4Efd2nF50Xz81RpsLlV9vQ-V_QSI'\n",
    "OWM_API_KEY = 'efd376c9747dc92fcc9f1a6f969ed9c0'\n",
    "\n",
    "bot = telebot.TeleBot(API_KEY)\n",
    "\n",
    "@bot.message_handler(commands=[\"hi\"])\n",
    "def hi(message):\n",
    "    bot.reply_to(message, \"Hey! How's it going?\")\n",
    "\n",
    "@bot.message_handler(commands=[\"HELLO\"])\n",
    "def hello(message):\n",
    "    bot.reply_to(message, \"Hello there!\")\n",
    "    \n",
    "\n",
    "    \n",
    "@bot.message_handler(commands=[\"HELP\"])\n",
    "def help_message(message):\n",
    "    response = (\n",
    "        \"I am a simple bot that responds to a few commands:\\n\"\n",
    "        \"/hi - Say hello to the bot\\n\"\n",
    "        \"/HELLO - Another way to greet\\n\"\n",
    "        \"/HELP - Display this help message\\n\"\n",
    "        \"/WEATHER - Get today's weather\"\n",
    "    )\n",
    "    bot.reply_to(message, response)\n",
    "\n",
    "@bot.message_handler(commands=[\"WEATHER\"])\n",
    "def get_weather(message):\n",
    "    # Extract the city name from the user's message\n",
    "    try:\n",
    "        _, city = message.text.split(\" \", 1)\n",
    "    except ValueError:\n",
    "        bot.reply_to(message, \"Please provide a city name after /WEATHER. For example: /WEATHER Paris\")\n",
    "        return\n",
    "\n",
    "    # Adjust the city name if needed\n",
    "    weather_api_url = f\"http://api.openweathermap.org/data/2.5/weather?q={city}&units=metric&appid={OWM_API_KEY}\"\n",
    "\n",
    "    try:\n",
    "        response = requests.get(weather_api_url)\n",
    "        \n",
    "        # Check for HTTP errors\n",
    "        response.raise_for_status()\n",
    "        \n",
    "        data = response.json()\n",
    "        print(data)  # Print the API response for debugging\n",
    "\n",
    "        if 'weather' in data:\n",
    "            weather_description = data[\"weather\"][0][\"description\"]\n",
    "            temperature_celsius = data[\"main\"][\"temp\"]\n",
    "            feels_like_temperature = data[\"main\"][\"feels_like\"]\n",
    "            wind_speed = data[\"wind\"][\"speed\"]\n",
    "            pressure = data[\"main\"][\"pressure\"]\n",
    "            humidity = data[\"main\"][\"humidity\"]\n",
    "            dew_point = data[\"main\"][\"temp\"] - ((100 - humidity) / 5)\n",
    "            visibility = data.get(\"visibility\", \"N/A\")\n",
    "            \n",
    "            response_text = (\n",
    "                f\"Today's weather in {city}:\\n\"\n",
    "                f\"Description: {weather_description}\\n\"\n",
    "                f\"Temperature: {temperature_celsius:.2f}°C\\n\"\n",
    "                f\"Feels like: {feels_like_temperature:.2f}°C\\n\"\n",
    "                f\"Wind: {wind_speed:.2f}m/s\\n\"\n",
    "                f\"Pressure: {pressure}hPa\\n\"\n",
    "                f\"Humidity: {humidity}%\\n\"\n",
    "                f\"Dew point: {dew_point:.2f}°C\\n\"\n",
    "                \n",
    "            )\n",
    "            bot.reply_to(message, response_text)\n",
    "        else:\n",
    "            bot.reply_to(message, \"Error: Weather information not available.\")\n",
    "\n",
    "    except requests.exceptions.HTTPError as errh:\n",
    "        bot.reply_to(message, f\"HTTP Error: {errh}\")\n",
    "    except requests.exceptions.ConnectionError as errc:\n",
    "        bot.reply_to(message, f\"Error Connecting: {errc}\")\n",
    "    except requests.exceptions.Timeout as errt:\n",
    "        bot.reply_to(message, f\"Timeout Error: {errt}\")\n",
    "    except requests.exceptions.RequestException as err:\n",
    "        bot.reply_to(message, f\"Error: {err}\")\n",
    "@bot.message_handler(commands=[\"start\"])\n",
    "def start(message):\n",
    "    bot.reply_to(message, \"Welcome! This is your bot. You can use commands like /hi, /HELLO, /HELP, and /WEATHER.\")\n",
    "\n",
    "# Replace 'YOUR_TELEGRAM_BOT_TOKEN' with your Telegram bot token\n",
    "bot.polling()\n"
   ]
  },
  {
   "cell_type": "code",
   "execution_count": null,
   "id": "4a9f7482",
   "metadata": {},
   "outputs": [],
   "source": []
  }
 ],
 "metadata": {
  "kernelspec": {
   "display_name": "Python 3 (ipykernel)",
   "language": "python",
   "name": "python3"
  },
  "language_info": {
   "codemirror_mode": {
    "name": "ipython",
    "version": 3
   },
   "file_extension": ".py",
   "mimetype": "text/x-python",
   "name": "python",
   "nbconvert_exporter": "python",
   "pygments_lexer": "ipython3",
   "version": "3.11.5"
  }
 },
 "nbformat": 4,
 "nbformat_minor": 5
}
